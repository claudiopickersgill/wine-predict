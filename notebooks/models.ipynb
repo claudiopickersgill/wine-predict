{
 "cells": [
  {
   "cell_type": "code",
   "execution_count": 3,
   "metadata": {},
   "outputs": [],
   "source": [
    "from base import base\n",
    "import matplotlib.pyplot as plt\n",
    "import numpy as np\n",
    "import pandas as pd\n",
    "from sklearn.preprocessing import StandardScaler\n",
    "from sklearn.tree import (\n",
    "    DecisionTreeClassifier, \n",
    "    plot_tree\n",
    ")\n",
    "from sklearn.model_selection import (\n",
    "    train_test_split,\n",
    "    StratifiedKFold)\n",
    "from sklearn.metrics import (\n",
    "    accuracy_score,\n",
    "    precision_score,\n",
    "    recall_score,\n",
    "    f1_score,\n",
    "    classification_report,\n",
    "    confusion_matrix,\n",
    "    roc_curve,\n",
    "    auc,\n",
    "    RocCurveDisplay\n",
    ")\n"
   ]
  },
  {
   "cell_type": "code",
   "execution_count": 4,
   "metadata": {},
   "outputs": [],
   "source": [
    "def split(df):\n",
    "    X, y = base(df)\n",
    "    X_train_cv, X_test, y_train_cv, y_test = train_test_split(X.values,\n",
    "                                                          y.values,\n",
    "                                                          test_size=0.2,\n",
    "                                                          random_state=42,\n",
    "                                                          stratify=y)\n",
    "    return X_train_cv, X_test, y_train_cv, y_test"
   ]
  },
  {
   "cell_type": "code",
   "execution_count": 10,
   "metadata": {},
   "outputs": [],
   "source": [
    "X_train_cv, X_test, y_train_cv, y_test = split('white')"
   ]
  },
  {
   "cell_type": "code",
   "execution_count": 11,
   "metadata": {},
   "outputs": [],
   "source": [
    "def train(X, y, model_klass, model_kwargs = {}):\n",
    "    cv = StratifiedKFold(n_splits=5)\n",
    "    f1_score_val_list = []\n",
    "    f1_score_train_list = []\n",
    "    model_list =[]\n",
    "    scaler_list = []\n",
    "    # Validação cruzada só em Training Data\n",
    "    for fold, (train_idx, val_idx) in enumerate(cv.split(X, y)):\n",
    "        X_train = X[train_idx, :]\n",
    "        y_train = y[train_idx]\n",
    "        X_val = X[val_idx, :]\n",
    "        y_val = y[val_idx]\n",
    "\n",
    "        # Escala\n",
    "        scaler = StandardScaler()\n",
    "        X_train_scaled = scaler.fit_transform(X_train)\n",
    "        X_val_scaled = scaler.transform(X_val)\n",
    "\n",
    "        scaler_list.append(scaler)\n",
    "\n",
    "        # Treino\n",
    "        model = model_klass(**model_kwargs)\n",
    "        model.fit(X_train_scaled, y_train)\n",
    "        y_pred = model.predict(X_train_scaled)\n",
    "\n",
    "        y_pred_val = model.predict(X_val_scaled)\n",
    "        print(f\"========================= FOLD {fold} ==========================\")\n",
    "        print(f\"Meu resultado para treino de F1-Score é {f1_score(y_train, y_pred):.2}\")\n",
    "        print(f\"Meu resultado para validação de F1-Score é {f1_score(y_val, y_pred_val):.2}\") \n",
    "        f1_score_val_list.append(f1_score(y_val, y_pred_val))\n",
    "        f1_score_train_list.append(f1_score(y_train, y_pred))\n",
    "        model_list.append(model)\n",
    "    print()\n",
    "    print()\n",
    "    print(f\"Meu resultado de F1-Score Médio de treino é {np.mean(f1_score_train_list): .2} +- {np.std(f1_score_train_list): .2} \")\n",
    "    print(f\"Meu resultado de F1-Score Médio de validação é {np.mean(f1_score_val_list): .2} +- {np.std(f1_score_val_list): .2} \")\n",
    "    print()\n",
    "\n",
    "    best_model_idx = np.argmax(f1_score_val_list)\n",
    "    print(f\"Meu melhor fold é: {best_model_idx} \")\n",
    "    best_model = model_list[best_model_idx]\n",
    "\n",
    "    # Fazer a inferência em Test Data\n",
    "    best_scaler = scaler_list[best_model_idx]\n",
    "    X_test_scaled = best_scaler.transform(X_test)\n",
    "    y_pred_test = model.predict(X_test_scaled)\n",
    "\n",
    "    print()\n",
    "    print()\n",
    "    print(f\"Meu resultado de F1-Score para o conjunto de teste é: {f1_score(y_test, y_pred_test):.2} \")\n",
    "    return best_model"
   ]
  },
  {
   "cell_type": "code",
   "execution_count": 12,
   "metadata": {},
   "outputs": [
    {
     "name": "stdout",
     "output_type": "stream",
     "text": [
      "========================= FOLD 0 ==========================\n",
      "Meu resultado para treino de F1-Score é 0.83\n",
      "Meu resultado para validação de F1-Score é 0.83\n",
      "========================= FOLD 1 ==========================\n",
      "Meu resultado para treino de F1-Score é 0.83\n",
      "Meu resultado para validação de F1-Score é 0.81\n",
      "========================= FOLD 2 ==========================\n",
      "Meu resultado para treino de F1-Score é 0.82\n",
      "Meu resultado para validação de F1-Score é 0.84\n",
      "========================= FOLD 3 ==========================\n",
      "Meu resultado para treino de F1-Score é 0.83\n",
      "Meu resultado para validação de F1-Score é 0.8\n",
      "========================= FOLD 4 ==========================\n",
      "Meu resultado para treino de F1-Score é 0.82\n",
      "Meu resultado para validação de F1-Score é 0.84\n",
      "\n",
      "\n",
      "Meu resultado de F1-Score Médio de treino é  0.83 +-  0.003 \n",
      "Meu resultado de F1-Score Médio de validação é  0.82 +-  0.016 \n",
      "\n",
      "Meu melhor fold é: 4 \n",
      "\n",
      "\n",
      "Meu resultado de F1-Score para o conjunto de teste é: 0.82 \n"
     ]
    },
    {
     "data": {
      "text/html": [
       "<style>#sk-container-id-2 {color: black;background-color: white;}#sk-container-id-2 pre{padding: 0;}#sk-container-id-2 div.sk-toggleable {background-color: white;}#sk-container-id-2 label.sk-toggleable__label {cursor: pointer;display: block;width: 100%;margin-bottom: 0;padding: 0.3em;box-sizing: border-box;text-align: center;}#sk-container-id-2 label.sk-toggleable__label-arrow:before {content: \"▸\";float: left;margin-right: 0.25em;color: #696969;}#sk-container-id-2 label.sk-toggleable__label-arrow:hover:before {color: black;}#sk-container-id-2 div.sk-estimator:hover label.sk-toggleable__label-arrow:before {color: black;}#sk-container-id-2 div.sk-toggleable__content {max-height: 0;max-width: 0;overflow: hidden;text-align: left;background-color: #f0f8ff;}#sk-container-id-2 div.sk-toggleable__content pre {margin: 0.2em;color: black;border-radius: 0.25em;background-color: #f0f8ff;}#sk-container-id-2 input.sk-toggleable__control:checked~div.sk-toggleable__content {max-height: 200px;max-width: 100%;overflow: auto;}#sk-container-id-2 input.sk-toggleable__control:checked~label.sk-toggleable__label-arrow:before {content: \"▾\";}#sk-container-id-2 div.sk-estimator input.sk-toggleable__control:checked~label.sk-toggleable__label {background-color: #d4ebff;}#sk-container-id-2 div.sk-label input.sk-toggleable__control:checked~label.sk-toggleable__label {background-color: #d4ebff;}#sk-container-id-2 input.sk-hidden--visually {border: 0;clip: rect(1px 1px 1px 1px);clip: rect(1px, 1px, 1px, 1px);height: 1px;margin: -1px;overflow: hidden;padding: 0;position: absolute;width: 1px;}#sk-container-id-2 div.sk-estimator {font-family: monospace;background-color: #f0f8ff;border: 1px dotted black;border-radius: 0.25em;box-sizing: border-box;margin-bottom: 0.5em;}#sk-container-id-2 div.sk-estimator:hover {background-color: #d4ebff;}#sk-container-id-2 div.sk-parallel-item::after {content: \"\";width: 100%;border-bottom: 1px solid gray;flex-grow: 1;}#sk-container-id-2 div.sk-label:hover label.sk-toggleable__label {background-color: #d4ebff;}#sk-container-id-2 div.sk-serial::before {content: \"\";position: absolute;border-left: 1px solid gray;box-sizing: border-box;top: 0;bottom: 0;left: 50%;z-index: 0;}#sk-container-id-2 div.sk-serial {display: flex;flex-direction: column;align-items: center;background-color: white;padding-right: 0.2em;padding-left: 0.2em;position: relative;}#sk-container-id-2 div.sk-item {position: relative;z-index: 1;}#sk-container-id-2 div.sk-parallel {display: flex;align-items: stretch;justify-content: center;background-color: white;position: relative;}#sk-container-id-2 div.sk-item::before, #sk-container-id-2 div.sk-parallel-item::before {content: \"\";position: absolute;border-left: 1px solid gray;box-sizing: border-box;top: 0;bottom: 0;left: 50%;z-index: -1;}#sk-container-id-2 div.sk-parallel-item {display: flex;flex-direction: column;z-index: 1;position: relative;background-color: white;}#sk-container-id-2 div.sk-parallel-item:first-child::after {align-self: flex-end;width: 50%;}#sk-container-id-2 div.sk-parallel-item:last-child::after {align-self: flex-start;width: 50%;}#sk-container-id-2 div.sk-parallel-item:only-child::after {width: 0;}#sk-container-id-2 div.sk-dashed-wrapped {border: 1px dashed gray;margin: 0 0.4em 0.5em 0.4em;box-sizing: border-box;padding-bottom: 0.4em;background-color: white;}#sk-container-id-2 div.sk-label label {font-family: monospace;font-weight: bold;display: inline-block;line-height: 1.2em;}#sk-container-id-2 div.sk-label-container {text-align: center;}#sk-container-id-2 div.sk-container {/* jupyter's `normalize.less` sets `[hidden] { display: none; }` but bootstrap.min.css set `[hidden] { display: none !important; }` so we also need the `!important` here to be able to override the default hidden behavior on the sphinx rendered scikit-learn.org. See: https://github.com/scikit-learn/scikit-learn/issues/21755 */display: inline-block !important;position: relative;}#sk-container-id-2 div.sk-text-repr-fallback {display: none;}</style><div id=\"sk-container-id-2\" class=\"sk-top-container\"><div class=\"sk-text-repr-fallback\"><pre>LogisticRegression()</pre><b>In a Jupyter environment, please rerun this cell to show the HTML representation or trust the notebook. <br />On GitHub, the HTML representation is unable to render, please try loading this page with nbviewer.org.</b></div><div class=\"sk-container\" hidden><div class=\"sk-item\"><div class=\"sk-estimator sk-toggleable\"><input class=\"sk-toggleable__control sk-hidden--visually\" id=\"sk-estimator-id-2\" type=\"checkbox\" checked><label for=\"sk-estimator-id-2\" class=\"sk-toggleable__label sk-toggleable__label-arrow\">LogisticRegression</label><div class=\"sk-toggleable__content\"><pre>LogisticRegression()</pre></div></div></div></div></div>"
      ],
      "text/plain": [
       "LogisticRegression()"
      ]
     },
     "execution_count": 12,
     "metadata": {},
     "output_type": "execute_result"
    }
   ],
   "source": [
    "train(X_train_cv, y_train_cv, LogisticRegression)"
   ]
  },
  {
   "cell_type": "code",
   "execution_count": 13,
   "metadata": {},
   "outputs": [
    {
     "name": "stdout",
     "output_type": "stream",
     "text": [
      "========================= FOLD 0 ==========================\n",
      "Meu resultado para treino de F1-Score é 1.0\n",
      "Meu resultado para validação de F1-Score é 0.83\n",
      "========================= FOLD 1 ==========================\n",
      "Meu resultado para treino de F1-Score é 1.0\n",
      "Meu resultado para validação de F1-Score é 0.82\n",
      "========================= FOLD 2 ==========================\n",
      "Meu resultado para treino de F1-Score é 1.0\n",
      "Meu resultado para validação de F1-Score é 0.83\n",
      "========================= FOLD 3 ==========================\n",
      "Meu resultado para treino de F1-Score é 1.0\n",
      "Meu resultado para validação de F1-Score é 0.82\n",
      "========================= FOLD 4 ==========================\n",
      "Meu resultado para treino de F1-Score é 1.0\n",
      "Meu resultado para validação de F1-Score é 0.82\n",
      "\n",
      "\n",
      "Meu resultado de F1-Score Médio de treino é  1.0 +-  0.0 \n",
      "Meu resultado de F1-Score Médio de validação é  0.82 +-  0.0051 \n",
      "\n",
      "Meu melhor fold é: 2 \n",
      "\n",
      "\n",
      "Meu resultado de F1-Score para o conjunto de teste é: 0.82 \n"
     ]
    }
   ],
   "source": [
    "tree_model = train(X_train_cv, y_train_cv, DecisionTreeClassifier)"
   ]
  }
 ],
 "metadata": {
  "kernelspec": {
   "display_name": ".venv",
   "language": "python",
   "name": "python3"
  },
  "language_info": {
   "codemirror_mode": {
    "name": "ipython",
    "version": 3
   },
   "file_extension": ".py",
   "mimetype": "text/x-python",
   "name": "python",
   "nbconvert_exporter": "python",
   "pygments_lexer": "ipython3",
   "version": "3.10.9"
  },
  "orig_nbformat": 4
 },
 "nbformat": 4,
 "nbformat_minor": 2
}
